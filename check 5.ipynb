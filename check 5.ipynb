{
 "cells": [
  {
   "cell_type": "markdown",
   "id": "22073f20",
   "metadata": {},
   "source": [
    "# 1"
   ]
  },
  {
   "cell_type": "code",
   "execution_count": null,
   "id": "4b379f63",
   "metadata": {},
   "outputs": [],
   "source": [
    "\"\"\"\n",
    "Write a python class named Point3D defined by x, y, and z.\n",
    "Define a method that returns (x, y ,z).\n",
    "This tells Python to represent this object in the following format: (x, y, z).\n",
    "Then create a variable named my_point containing a new instance of Point3D\n",
    "with x=1, y=2, and z=3 and print it.\n",
    "\"\"\""
   ]
  },
  {
   "cell_type": "code",
   "execution_count": 1,
   "id": "e91979b9",
   "metadata": {},
   "outputs": [
    {
     "name": "stdout",
     "output_type": "stream",
     "text": [
      "1 , 2 , 3\n"
     ]
    }
   ],
   "source": [
    "class point3D :\n",
    "    def __init__(self,x,y,z):\n",
    "        self.x=x\n",
    "        self.y=y\n",
    "        self.z=z\n",
    "        print (x,\",\",y,\",\",z)\n",
    "my_point= point3D (1,2,3)"
   ]
  },
  {
   "cell_type": "markdown",
   "id": "8b7aae6d",
   "metadata": {},
   "source": [
    "# 2"
   ]
  },
  {
   "cell_type": "code",
   "execution_count": null,
   "id": "3b86c56d",
   "metadata": {},
   "outputs": [],
   "source": [
    "\"\"\"\n",
    "Write a Python class named Rectangle constructed by a length and width.\n",
    "Define two methods area and perimeter which will compute the area and the perimeter\n",
    "of the rectangle. \n",
    "Then create a variable named my_rectangle containing a new instance of Rectangle\n",
    "with width=3 and length = 4 and compute both of area and perimeter \n",
    "( the area is expected to be 3*4=12 and perimeter 2*(3+4)=14)\n",
    "\"\"\"\n",
    "\n"
   ]
  },
  {
   "cell_type": "code",
   "execution_count": 4,
   "id": "45259fff",
   "metadata": {},
   "outputs": [
    {
     "name": "stdout",
     "output_type": "stream",
     "text": [
      "area= 12\n",
      "peri= 14\n"
     ]
    }
   ],
   "source": [
    "class Rectangle :\n",
    "    def __init__(self,l,w):\n",
    "        self.length=l\n",
    "        self.width=w \n",
    "    def area(self) :\n",
    "        return self.length*self.width\n",
    "    def peri(self) :\n",
    "        return 2*(self.length+self.width)\n",
    "my_rectangle= Rectangle (4,3)\n",
    "print (\"area=\",my_rectangle.area())\n",
    "print(\"peri=\",my_rectangle.peri())"
   ]
  },
  {
   "cell_type": "markdown",
   "id": "c154a097",
   "metadata": {},
   "source": [
    "# 3"
   ]
  },
  {
   "cell_type": "code",
   "execution_count": null,
   "id": "c93be239",
   "metadata": {},
   "outputs": [],
   "source": [
    "\"\"\"\n",
    "Write a Python  class named Circle constructed by its center O and radius r.\n",
    "Define two methods area and perimeter which will compute the area and the perimeter\n",
    "of the circle, and isInside() method of the class which allows to test whether\n",
    "a point A(x, y) belongs to the circle C(O, r) or not.\n",
    "\"\"\"\n"
   ]
  },
  {
   "cell_type": "code",
   "execution_count": 3,
   "id": "657217ef",
   "metadata": {},
   "outputs": [
    {
     "name": "stdout",
     "output_type": "stream",
     "text": [
      "area= 50.26548245743669\n",
      "peri= 25.132741228718345\n"
     ]
    }
   ],
   "source": [
    "from math import pi\n",
    "class Circle : \n",
    "    def __init__(self,o,r):\n",
    "        self.center=o\n",
    "        self.radius=r \n",
    "    def area(self) :\n",
    "        return pi*(self.radius**2)\n",
    "    def peri(self) :\n",
    "        return 2*pi*self.radius\n",
    "s= Circle(0,4)\n",
    "print (\"area=\",s.area())\n",
    "print(\"peri=\",s.peri())"
   ]
  },
  {
   "cell_type": "markdown",
   "id": "81938164",
   "metadata": {},
   "source": [
    "# 4"
   ]
  },
  {
   "cell_type": "code",
   "execution_count": null,
   "id": "fb014df2",
   "metadata": {},
   "outputs": [],
   "source": [
    "\"\"\"\n",
    "Suppose we want to model a bank account with support for deposit and withdraw operations.\n",
    "Let’s create a python class named bank defined by its balance.\n",
    "Define two methods deposit and withdraw to compute the new amount of each operation.\n",
    "\"\"\""
   ]
  },
  {
   "cell_type": "code",
   "execution_count": 1,
   "id": "4480eeef",
   "metadata": {},
   "outputs": [
    {
     "name": "stdout",
     "output_type": "stream",
     "text": [
      "Hello!!! Welcome to the Deposit & Withdrawal Machine\n",
      "Enter amount to be Deposited: 100\n",
      " Amount Deposited: 100.0\n",
      "Enter amount to be Withdrawn: 50\n",
      "You Withdrew: 50.0\n",
      " Net Available Balance= 50.0\n"
     ]
    }
   ],
   "source": [
    "class Bank_Account:\n",
    "    def __init__(self):\n",
    "        self.balance=0\n",
    "        print(\"Hello!!! Welcome to the Deposit & Withdrawal Machine\")\n",
    "  \n",
    "    def deposit(self):\n",
    "        amount=float(input(\"Enter amount to be Deposited: \"))\n",
    "        self.balance += amount\n",
    "        print(\" Amount Deposited:\",amount)\n",
    "  \n",
    "    def withdraw(self):\n",
    "        amount = float(input(\"Enter amount to be Withdrawn: \"))\n",
    "        if self.balance>=amount:\n",
    "            self.balance-=amount\n",
    "            print(\"You Withdrew:\", amount)\n",
    "        else:\n",
    "            print(\"Insufficient balance  \")\n",
    "  \n",
    "    def display(self):\n",
    "        print(\" Net Available Balance=\",self.balance)\n",
    "s = Bank_Account()\n",
    " \n",
    "s.deposit()\n",
    "s.withdraw()\n",
    "s.display()"
   ]
  }
 ],
 "metadata": {
  "kernelspec": {
   "display_name": "Python 3",
   "language": "python",
   "name": "python3"
  },
  "language_info": {
   "codemirror_mode": {
    "name": "ipython",
    "version": 3
   },
   "file_extension": ".py",
   "mimetype": "text/x-python",
   "name": "python",
   "nbconvert_exporter": "python",
   "pygments_lexer": "ipython3",
   "version": "3.8.8"
  }
 },
 "nbformat": 4,
 "nbformat_minor": 5
}
